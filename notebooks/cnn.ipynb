{
  "nbformat": 4,
  "nbformat_minor": 0,
  "metadata": {
    "colab": {
      "provenance": [],
      "gpuType": "T4"
    },
    "kernelspec": {
      "name": "python3",
      "display_name": "Python 3"
    },
    "language_info": {
      "name": "python"
    },
    "accelerator": "GPU",
    "widgets": {
      "application/vnd.jupyter.widget-state+json": {
        "cb962258860543bc8c45a22523b08b4e": {
          "model_module": "@jupyter-widgets/controls",
          "model_name": "HBoxModel",
          "model_module_version": "1.5.0",
          "state": {
            "_dom_classes": [],
            "_model_module": "@jupyter-widgets/controls",
            "_model_module_version": "1.5.0",
            "_model_name": "HBoxModel",
            "_view_count": null,
            "_view_module": "@jupyter-widgets/controls",
            "_view_module_version": "1.5.0",
            "_view_name": "HBoxView",
            "box_style": "",
            "children": [
              "IPY_MODEL_448e222d1b1f4808b7a6475119232f11",
              "IPY_MODEL_67a60c53fbee4fdca3b8fd6c003b7a32",
              "IPY_MODEL_5d262027ed1f4564b7f7e294227dae49"
            ],
            "layout": "IPY_MODEL_73a1f6b283a74d029e8cd7baf3d4ac77"
          }
        },
        "448e222d1b1f4808b7a6475119232f11": {
          "model_module": "@jupyter-widgets/controls",
          "model_name": "HTMLModel",
          "model_module_version": "1.5.0",
          "state": {
            "_dom_classes": [],
            "_model_module": "@jupyter-widgets/controls",
            "_model_module_version": "1.5.0",
            "_model_name": "HTMLModel",
            "_view_count": null,
            "_view_module": "@jupyter-widgets/controls",
            "_view_module_version": "1.5.0",
            "_view_name": "HTMLView",
            "description": "",
            "description_tooltip": null,
            "layout": "IPY_MODEL_0e4c23db81ee4b33b83a8d78e42b9053",
            "placeholder": "​",
            "style": "IPY_MODEL_1d312209582a436a9703cf18bb0cd077",
            "value": "100%"
          }
        },
        "67a60c53fbee4fdca3b8fd6c003b7a32": {
          "model_module": "@jupyter-widgets/controls",
          "model_name": "FloatProgressModel",
          "model_module_version": "1.5.0",
          "state": {
            "_dom_classes": [],
            "_model_module": "@jupyter-widgets/controls",
            "_model_module_version": "1.5.0",
            "_model_name": "FloatProgressModel",
            "_view_count": null,
            "_view_module": "@jupyter-widgets/controls",
            "_view_module_version": "1.5.0",
            "_view_name": "ProgressView",
            "bar_style": "success",
            "description": "",
            "description_tooltip": null,
            "layout": "IPY_MODEL_3372ae1a0f654b13b26f4b7b9b4c393d",
            "max": 3,
            "min": 0,
            "orientation": "horizontal",
            "style": "IPY_MODEL_b134877f82514afb8c3cc95582f4019c",
            "value": 3
          }
        },
        "5d262027ed1f4564b7f7e294227dae49": {
          "model_module": "@jupyter-widgets/controls",
          "model_name": "HTMLModel",
          "model_module_version": "1.5.0",
          "state": {
            "_dom_classes": [],
            "_model_module": "@jupyter-widgets/controls",
            "_model_module_version": "1.5.0",
            "_model_name": "HTMLModel",
            "_view_count": null,
            "_view_module": "@jupyter-widgets/controls",
            "_view_module_version": "1.5.0",
            "_view_name": "HTMLView",
            "description": "",
            "description_tooltip": null,
            "layout": "IPY_MODEL_d15228c137104bd7b61708b61536bd4d",
            "placeholder": "​",
            "style": "IPY_MODEL_b0c8db75e8344a47b03436f907424865",
            "value": " 3/3 [00:37&lt;00:00, 12.34s/it]"
          }
        },
        "73a1f6b283a74d029e8cd7baf3d4ac77": {
          "model_module": "@jupyter-widgets/base",
          "model_name": "LayoutModel",
          "model_module_version": "1.2.0",
          "state": {
            "_model_module": "@jupyter-widgets/base",
            "_model_module_version": "1.2.0",
            "_model_name": "LayoutModel",
            "_view_count": null,
            "_view_module": "@jupyter-widgets/base",
            "_view_module_version": "1.2.0",
            "_view_name": "LayoutView",
            "align_content": null,
            "align_items": null,
            "align_self": null,
            "border": null,
            "bottom": null,
            "display": null,
            "flex": null,
            "flex_flow": null,
            "grid_area": null,
            "grid_auto_columns": null,
            "grid_auto_flow": null,
            "grid_auto_rows": null,
            "grid_column": null,
            "grid_gap": null,
            "grid_row": null,
            "grid_template_areas": null,
            "grid_template_columns": null,
            "grid_template_rows": null,
            "height": null,
            "justify_content": null,
            "justify_items": null,
            "left": null,
            "margin": null,
            "max_height": null,
            "max_width": null,
            "min_height": null,
            "min_width": null,
            "object_fit": null,
            "object_position": null,
            "order": null,
            "overflow": null,
            "overflow_x": null,
            "overflow_y": null,
            "padding": null,
            "right": null,
            "top": null,
            "visibility": null,
            "width": null
          }
        },
        "0e4c23db81ee4b33b83a8d78e42b9053": {
          "model_module": "@jupyter-widgets/base",
          "model_name": "LayoutModel",
          "model_module_version": "1.2.0",
          "state": {
            "_model_module": "@jupyter-widgets/base",
            "_model_module_version": "1.2.0",
            "_model_name": "LayoutModel",
            "_view_count": null,
            "_view_module": "@jupyter-widgets/base",
            "_view_module_version": "1.2.0",
            "_view_name": "LayoutView",
            "align_content": null,
            "align_items": null,
            "align_self": null,
            "border": null,
            "bottom": null,
            "display": null,
            "flex": null,
            "flex_flow": null,
            "grid_area": null,
            "grid_auto_columns": null,
            "grid_auto_flow": null,
            "grid_auto_rows": null,
            "grid_column": null,
            "grid_gap": null,
            "grid_row": null,
            "grid_template_areas": null,
            "grid_template_columns": null,
            "grid_template_rows": null,
            "height": null,
            "justify_content": null,
            "justify_items": null,
            "left": null,
            "margin": null,
            "max_height": null,
            "max_width": null,
            "min_height": null,
            "min_width": null,
            "object_fit": null,
            "object_position": null,
            "order": null,
            "overflow": null,
            "overflow_x": null,
            "overflow_y": null,
            "padding": null,
            "right": null,
            "top": null,
            "visibility": null,
            "width": null
          }
        },
        "1d312209582a436a9703cf18bb0cd077": {
          "model_module": "@jupyter-widgets/controls",
          "model_name": "DescriptionStyleModel",
          "model_module_version": "1.5.0",
          "state": {
            "_model_module": "@jupyter-widgets/controls",
            "_model_module_version": "1.5.0",
            "_model_name": "DescriptionStyleModel",
            "_view_count": null,
            "_view_module": "@jupyter-widgets/base",
            "_view_module_version": "1.2.0",
            "_view_name": "StyleView",
            "description_width": ""
          }
        },
        "3372ae1a0f654b13b26f4b7b9b4c393d": {
          "model_module": "@jupyter-widgets/base",
          "model_name": "LayoutModel",
          "model_module_version": "1.2.0",
          "state": {
            "_model_module": "@jupyter-widgets/base",
            "_model_module_version": "1.2.0",
            "_model_name": "LayoutModel",
            "_view_count": null,
            "_view_module": "@jupyter-widgets/base",
            "_view_module_version": "1.2.0",
            "_view_name": "LayoutView",
            "align_content": null,
            "align_items": null,
            "align_self": null,
            "border": null,
            "bottom": null,
            "display": null,
            "flex": null,
            "flex_flow": null,
            "grid_area": null,
            "grid_auto_columns": null,
            "grid_auto_flow": null,
            "grid_auto_rows": null,
            "grid_column": null,
            "grid_gap": null,
            "grid_row": null,
            "grid_template_areas": null,
            "grid_template_columns": null,
            "grid_template_rows": null,
            "height": null,
            "justify_content": null,
            "justify_items": null,
            "left": null,
            "margin": null,
            "max_height": null,
            "max_width": null,
            "min_height": null,
            "min_width": null,
            "object_fit": null,
            "object_position": null,
            "order": null,
            "overflow": null,
            "overflow_x": null,
            "overflow_y": null,
            "padding": null,
            "right": null,
            "top": null,
            "visibility": null,
            "width": null
          }
        },
        "b134877f82514afb8c3cc95582f4019c": {
          "model_module": "@jupyter-widgets/controls",
          "model_name": "ProgressStyleModel",
          "model_module_version": "1.5.0",
          "state": {
            "_model_module": "@jupyter-widgets/controls",
            "_model_module_version": "1.5.0",
            "_model_name": "ProgressStyleModel",
            "_view_count": null,
            "_view_module": "@jupyter-widgets/base",
            "_view_module_version": "1.2.0",
            "_view_name": "StyleView",
            "bar_color": null,
            "description_width": ""
          }
        },
        "d15228c137104bd7b61708b61536bd4d": {
          "model_module": "@jupyter-widgets/base",
          "model_name": "LayoutModel",
          "model_module_version": "1.2.0",
          "state": {
            "_model_module": "@jupyter-widgets/base",
            "_model_module_version": "1.2.0",
            "_model_name": "LayoutModel",
            "_view_count": null,
            "_view_module": "@jupyter-widgets/base",
            "_view_module_version": "1.2.0",
            "_view_name": "LayoutView",
            "align_content": null,
            "align_items": null,
            "align_self": null,
            "border": null,
            "bottom": null,
            "display": null,
            "flex": null,
            "flex_flow": null,
            "grid_area": null,
            "grid_auto_columns": null,
            "grid_auto_flow": null,
            "grid_auto_rows": null,
            "grid_column": null,
            "grid_gap": null,
            "grid_row": null,
            "grid_template_areas": null,
            "grid_template_columns": null,
            "grid_template_rows": null,
            "height": null,
            "justify_content": null,
            "justify_items": null,
            "left": null,
            "margin": null,
            "max_height": null,
            "max_width": null,
            "min_height": null,
            "min_width": null,
            "object_fit": null,
            "object_position": null,
            "order": null,
            "overflow": null,
            "overflow_x": null,
            "overflow_y": null,
            "padding": null,
            "right": null,
            "top": null,
            "visibility": null,
            "width": null
          }
        },
        "b0c8db75e8344a47b03436f907424865": {
          "model_module": "@jupyter-widgets/controls",
          "model_name": "DescriptionStyleModel",
          "model_module_version": "1.5.0",
          "state": {
            "_model_module": "@jupyter-widgets/controls",
            "_model_module_version": "1.5.0",
            "_model_name": "DescriptionStyleModel",
            "_view_count": null,
            "_view_module": "@jupyter-widgets/base",
            "_view_module_version": "1.2.0",
            "_view_name": "StyleView",
            "description_width": ""
          }
        }
      }
    }
  },
  "cells": [
    {
      "cell_type": "code",
      "execution_count": 1,
      "metadata": {
        "id": "w0XmqjUjyxTt"
      },
      "outputs": [],
      "source": [
        "import torch\n",
        "from torch import nn\n",
        "\n",
        "import torchvision\n",
        "from torchvision import datasets\n",
        "from torchvision.transforms import ToTensor\n",
        "from torch.utils.data import DataLoader\n",
        "\n",
        "import matplotlib.pyplot as plt\n",
        "from tqdm.auto import tqdm"
      ]
    },
    {
      "cell_type": "code",
      "source": [
        "device = torch.device('cuda') if torch.cuda.is_available() else torch.device('cpu')\n",
        "device"
      ],
      "metadata": {
        "colab": {
          "base_uri": "https://localhost:8080/"
        },
        "id": "LYjIMhLo1O2Z",
        "outputId": "cd54ce38-edf0-4b66-b0f8-788b8bb6316b"
      },
      "execution_count": 2,
      "outputs": [
        {
          "output_type": "execute_result",
          "data": {
            "text/plain": [
              "device(type='cuda')"
            ]
          },
          "metadata": {},
          "execution_count": 2
        }
      ]
    },
    {
      "cell_type": "code",
      "source": [
        "train_data = datasets.FashionMNIST(\n",
        "    root='data',\n",
        "    train=True,\n",
        "    download=True,\n",
        "    transform=ToTensor(),\n",
        "    target_transform=None\n",
        ")\n",
        "\n",
        "test_data = datasets.FashionMNIST(\n",
        "    root='data',\n",
        "    train=False,\n",
        "    download=True,\n",
        "    transform=ToTensor()\n",
        ")"
      ],
      "metadata": {
        "colab": {
          "base_uri": "https://localhost:8080/"
        },
        "id": "wpvud4dezjR5",
        "outputId": "c53b8032-a3fa-4ce7-df0f-38ef9f3db828"
      },
      "execution_count": 3,
      "outputs": [
        {
          "output_type": "stream",
          "name": "stdout",
          "text": [
            "Downloading http://fashion-mnist.s3-website.eu-central-1.amazonaws.com/train-images-idx3-ubyte.gz\n",
            "Downloading http://fashion-mnist.s3-website.eu-central-1.amazonaws.com/train-images-idx3-ubyte.gz to data/FashionMNIST/raw/train-images-idx3-ubyte.gz\n"
          ]
        },
        {
          "output_type": "stream",
          "name": "stderr",
          "text": [
            "100%|██████████| 26421880/26421880 [00:29<00:00, 891463.98it/s] \n"
          ]
        },
        {
          "output_type": "stream",
          "name": "stdout",
          "text": [
            "Extracting data/FashionMNIST/raw/train-images-idx3-ubyte.gz to data/FashionMNIST/raw\n",
            "\n",
            "Downloading http://fashion-mnist.s3-website.eu-central-1.amazonaws.com/train-labels-idx1-ubyte.gz\n",
            "Downloading http://fashion-mnist.s3-website.eu-central-1.amazonaws.com/train-labels-idx1-ubyte.gz to data/FashionMNIST/raw/train-labels-idx1-ubyte.gz\n"
          ]
        },
        {
          "output_type": "stream",
          "name": "stderr",
          "text": [
            "100%|██████████| 29515/29515 [00:00<00:00, 168504.07it/s]\n"
          ]
        },
        {
          "output_type": "stream",
          "name": "stdout",
          "text": [
            "Extracting data/FashionMNIST/raw/train-labels-idx1-ubyte.gz to data/FashionMNIST/raw\n",
            "\n",
            "Downloading http://fashion-mnist.s3-website.eu-central-1.amazonaws.com/t10k-images-idx3-ubyte.gz\n",
            "Downloading http://fashion-mnist.s3-website.eu-central-1.amazonaws.com/t10k-images-idx3-ubyte.gz to data/FashionMNIST/raw/t10k-images-idx3-ubyte.gz\n"
          ]
        },
        {
          "output_type": "stream",
          "name": "stderr",
          "text": [
            "100%|██████████| 4422102/4422102 [00:01<00:00, 3048456.76it/s]\n"
          ]
        },
        {
          "output_type": "stream",
          "name": "stdout",
          "text": [
            "Extracting data/FashionMNIST/raw/t10k-images-idx3-ubyte.gz to data/FashionMNIST/raw\n",
            "\n",
            "Downloading http://fashion-mnist.s3-website.eu-central-1.amazonaws.com/t10k-labels-idx1-ubyte.gz\n",
            "Downloading http://fashion-mnist.s3-website.eu-central-1.amazonaws.com/t10k-labels-idx1-ubyte.gz to data/FashionMNIST/raw/t10k-labels-idx1-ubyte.gz\n"
          ]
        },
        {
          "output_type": "stream",
          "name": "stderr",
          "text": [
            "100%|██████████| 5148/5148 [00:00<00:00, 8633457.41it/s]"
          ]
        },
        {
          "output_type": "stream",
          "name": "stdout",
          "text": [
            "Extracting data/FashionMNIST/raw/t10k-labels-idx1-ubyte.gz to data/FashionMNIST/raw\n",
            "\n"
          ]
        },
        {
          "output_type": "stream",
          "name": "stderr",
          "text": [
            "\n"
          ]
        }
      ]
    },
    {
      "cell_type": "code",
      "source": [
        "class_names = train_data.classes\n",
        "class_names"
      ],
      "metadata": {
        "colab": {
          "base_uri": "https://localhost:8080/"
        },
        "id": "DVwMl1-Xz5hC",
        "outputId": "90e06241-41f7-4a9f-ef96-863ffdf43825"
      },
      "execution_count": 4,
      "outputs": [
        {
          "output_type": "execute_result",
          "data": {
            "text/plain": [
              "['T-shirt/top',\n",
              " 'Trouser',\n",
              " 'Pullover',\n",
              " 'Dress',\n",
              " 'Coat',\n",
              " 'Sandal',\n",
              " 'Shirt',\n",
              " 'Sneaker',\n",
              " 'Bag',\n",
              " 'Ankle boot']"
            ]
          },
          "metadata": {},
          "execution_count": 4
        }
      ]
    },
    {
      "cell_type": "code",
      "source": [
        "BATCH_SIZE = 32\n",
        "\n",
        "train_dataloader = DataLoader(train_data,\n",
        "                              batch_size=BATCH_SIZE,\n",
        "                              shuffle=True)\n",
        "\n",
        "test_dataloader = DataLoader(test_data,\n",
        "                             batch_size=BATCH_SIZE,\n",
        "                             shuffle=False)"
      ],
      "metadata": {
        "id": "FyMQH0Fj0FY1"
      },
      "execution_count": 5,
      "outputs": []
    },
    {
      "cell_type": "code",
      "source": [
        "class FashionMNISTModel(nn.Module):\n",
        "\n",
        "  def __init__(self, input_size, output_size):\n",
        "    super().__init__()\n",
        "    self.block_1 = nn.Sequential(\n",
        "        nn.Conv2d(in_channels=input_size,\n",
        "                  out_channels=8,\n",
        "                  kernel_size=3,\n",
        "                  stride=1,\n",
        "                  padding=1),\n",
        "        nn.ReLU(),\n",
        "        nn.Conv2d(in_channels=8,\n",
        "                  out_channels=8,\n",
        "                  kernel_size=3,\n",
        "                  stride=1,\n",
        "                  padding=1),\n",
        "        nn.ReLU(),\n",
        "        nn.MaxPool2d(kernel_size=2,\n",
        "                     stride=2)\n",
        "    )\n",
        "    self.block_2 = nn.Sequential(\n",
        "        nn.Conv2d(in_channels=8,\n",
        "                  out_channels=8,\n",
        "                  kernel_size=3,\n",
        "                  stride=1,\n",
        "                  padding=1),\n",
        "        nn.ReLU(),\n",
        "        nn.Conv2d(in_channels=8,\n",
        "                  out_channels=8,\n",
        "                  kernel_size=3,\n",
        "                  stride=1,\n",
        "                  padding=1),\n",
        "        nn.ReLU(),\n",
        "        nn.MaxPool2d(kernel_size=2,\n",
        "                     stride=2)\n",
        "    )\n",
        "    self.classifier = nn.Sequential(\n",
        "        nn.Flatten(),\n",
        "        nn.Linear(in_features=392,\n",
        "                  out_features=output_size)\n",
        "    )\n",
        "\n",
        "  def forward(self, x):\n",
        "    x = self.block_1(x)\n",
        "    # print(x.shape)\n",
        "    x = self.block_2(x)\n",
        "    # print(x.shape)\n",
        "    x = self.classifier(x)\n",
        "    # print(x.shape)\n",
        "\n",
        "    return x"
      ],
      "metadata": {
        "id": "iSCdzcQd0fwO"
      },
      "execution_count": 49,
      "outputs": []
    },
    {
      "cell_type": "code",
      "source": [
        "model = FashionMNISTModel(input_size=1, output_size=len(class_names)).to(device)\n",
        "model"
      ],
      "metadata": {
        "colab": {
          "base_uri": "https://localhost:8080/"
        },
        "id": "GTrceNKF9m2t",
        "outputId": "5b3eb98b-2a5a-4c3f-e85b-49f9fe69f4af"
      },
      "execution_count": 50,
      "outputs": [
        {
          "output_type": "execute_result",
          "data": {
            "text/plain": [
              "FashionMNISTModel(\n",
              "  (block_1): Sequential(\n",
              "    (0): Conv2d(1, 8, kernel_size=(3, 3), stride=(1, 1), padding=(1, 1))\n",
              "    (1): ReLU()\n",
              "    (2): Conv2d(8, 8, kernel_size=(3, 3), stride=(1, 1), padding=(1, 1))\n",
              "    (3): ReLU()\n",
              "    (4): MaxPool2d(kernel_size=2, stride=2, padding=0, dilation=1, ceil_mode=False)\n",
              "  )\n",
              "  (block_2): Sequential(\n",
              "    (0): Conv2d(8, 8, kernel_size=(3, 3), stride=(1, 1), padding=(1, 1))\n",
              "    (1): ReLU()\n",
              "    (2): Conv2d(8, 8, kernel_size=(3, 3), stride=(1, 1), padding=(1, 1))\n",
              "    (3): ReLU()\n",
              "    (4): MaxPool2d(kernel_size=2, stride=2, padding=0, dilation=1, ceil_mode=False)\n",
              "  )\n",
              "  (classifier): Sequential(\n",
              "    (0): Flatten(start_dim=1, end_dim=-1)\n",
              "    (1): Linear(in_features=392, out_features=10, bias=True)\n",
              "  )\n",
              ")"
            ]
          },
          "metadata": {},
          "execution_count": 50
        }
      ]
    },
    {
      "cell_type": "code",
      "source": [
        "image_tensor = torch.rand(32, 1, 28, 28).to(device)\n",
        "model(image_tensor)"
      ],
      "metadata": {
        "colab": {
          "base_uri": "https://localhost:8080/"
        },
        "id": "aEYUlYjr9fYb",
        "outputId": "a194a56b-0262-476e-aaa6-e9df160ab4a3"
      },
      "execution_count": 51,
      "outputs": [
        {
          "output_type": "execute_result",
          "data": {
            "text/plain": [
              "tensor([[-0.0040, -0.0162,  0.0034,  0.0876,  0.0122,  0.0500,  0.0170, -0.0648,\n",
              "          0.0416, -0.0840],\n",
              "        [-0.0031, -0.0103,  0.0041,  0.0892,  0.0139,  0.0460,  0.0186, -0.0684,\n",
              "          0.0414, -0.0858],\n",
              "        [-0.0047, -0.0165,  0.0048,  0.0882,  0.0149,  0.0429,  0.0178, -0.0636,\n",
              "          0.0443, -0.0873],\n",
              "        [-0.0060, -0.0152,  0.0037,  0.0899,  0.0126,  0.0456,  0.0192, -0.0663,\n",
              "          0.0393, -0.0854],\n",
              "        [-0.0067, -0.0172,  0.0048,  0.0858,  0.0140,  0.0423,  0.0186, -0.0666,\n",
              "          0.0397, -0.0883],\n",
              "        [-0.0041, -0.0164,  0.0065,  0.0888,  0.0127,  0.0455,  0.0170, -0.0661,\n",
              "          0.0409, -0.0856],\n",
              "        [-0.0048, -0.0136,  0.0052,  0.0861,  0.0113,  0.0446,  0.0226, -0.0643,\n",
              "          0.0431, -0.0857],\n",
              "        [-0.0060, -0.0161,  0.0058,  0.0877,  0.0112,  0.0505,  0.0165, -0.0665,\n",
              "          0.0430, -0.0854],\n",
              "        [-0.0039, -0.0146,  0.0054,  0.0885,  0.0134,  0.0444,  0.0163, -0.0660,\n",
              "          0.0410, -0.0839],\n",
              "        [-0.0069, -0.0165,  0.0052,  0.0896,  0.0129,  0.0466,  0.0184, -0.0675,\n",
              "          0.0406, -0.0867],\n",
              "        [-0.0044, -0.0136,  0.0044,  0.0903,  0.0151,  0.0420,  0.0180, -0.0632,\n",
              "          0.0424, -0.0887],\n",
              "        [-0.0030, -0.0159,  0.0033,  0.0893,  0.0139,  0.0468,  0.0169, -0.0673,\n",
              "          0.0419, -0.0842],\n",
              "        [-0.0052, -0.0133,  0.0073,  0.0881,  0.0132,  0.0455,  0.0179, -0.0654,\n",
              "          0.0401, -0.0846],\n",
              "        [-0.0022, -0.0167,  0.0028,  0.0871,  0.0118,  0.0418,  0.0174, -0.0642,\n",
              "          0.0438, -0.0870],\n",
              "        [-0.0005, -0.0162,  0.0017,  0.0885,  0.0113,  0.0466,  0.0164, -0.0667,\n",
              "          0.0413, -0.0827],\n",
              "        [-0.0068, -0.0158,  0.0061,  0.0884,  0.0122,  0.0458,  0.0183, -0.0667,\n",
              "          0.0413, -0.0880],\n",
              "        [-0.0037, -0.0139,  0.0003,  0.0887,  0.0160,  0.0448,  0.0204, -0.0633,\n",
              "          0.0414, -0.0871],\n",
              "        [-0.0040, -0.0146,  0.0043,  0.0881,  0.0141,  0.0453,  0.0191, -0.0651,\n",
              "          0.0429, -0.0871],\n",
              "        [-0.0048, -0.0119,  0.0068,  0.0873,  0.0138,  0.0456,  0.0162, -0.0658,\n",
              "          0.0443, -0.0831],\n",
              "        [-0.0033, -0.0147,  0.0047,  0.0893,  0.0161,  0.0498,  0.0186, -0.0648,\n",
              "          0.0416, -0.0877],\n",
              "        [-0.0063, -0.0154,  0.0051,  0.0918,  0.0098,  0.0466,  0.0164, -0.0663,\n",
              "          0.0406, -0.0834],\n",
              "        [-0.0024, -0.0149,  0.0020,  0.0848,  0.0131,  0.0494,  0.0177, -0.0676,\n",
              "          0.0408, -0.0872],\n",
              "        [-0.0044, -0.0164,  0.0044,  0.0895,  0.0122,  0.0457,  0.0174, -0.0635,\n",
              "          0.0417, -0.0850],\n",
              "        [-0.0046, -0.0170,  0.0053,  0.0861,  0.0118,  0.0456,  0.0202, -0.0661,\n",
              "          0.0410, -0.0862],\n",
              "        [-0.0052, -0.0134,  0.0056,  0.0883,  0.0128,  0.0449,  0.0200, -0.0644,\n",
              "          0.0417, -0.0848],\n",
              "        [-0.0051, -0.0144,  0.0050,  0.0877,  0.0153,  0.0481,  0.0156, -0.0671,\n",
              "          0.0436, -0.0877],\n",
              "        [-0.0053, -0.0166,  0.0040,  0.0895,  0.0121,  0.0487,  0.0198, -0.0666,\n",
              "          0.0427, -0.0855],\n",
              "        [-0.0034, -0.0160,  0.0034,  0.0858,  0.0105,  0.0479,  0.0192, -0.0670,\n",
              "          0.0400, -0.0866],\n",
              "        [-0.0043, -0.0141,  0.0061,  0.0895,  0.0135,  0.0498,  0.0189, -0.0623,\n",
              "          0.0375, -0.0886],\n",
              "        [-0.0065, -0.0158,  0.0052,  0.0896,  0.0127,  0.0464,  0.0177, -0.0650,\n",
              "          0.0433, -0.0862],\n",
              "        [-0.0036, -0.0165, -0.0001,  0.0874,  0.0122,  0.0450,  0.0172, -0.0646,\n",
              "          0.0426, -0.0850],\n",
              "        [-0.0062, -0.0163,  0.0051,  0.0869,  0.0124,  0.0484,  0.0180, -0.0677,\n",
              "          0.0392, -0.0839]], device='cuda:0', grad_fn=<AddmmBackward0>)"
            ]
          },
          "metadata": {},
          "execution_count": 51
        }
      ]
    },
    {
      "cell_type": "code",
      "source": [
        "next(iter(train_dataloader))[0].shape"
      ],
      "metadata": {
        "colab": {
          "base_uri": "https://localhost:8080/"
        },
        "id": "c-4ND8MY-5DF",
        "outputId": "a1c0838e-ea30-4644-b0fe-83f87af9b79f"
      },
      "execution_count": 52,
      "outputs": [
        {
          "output_type": "execute_result",
          "data": {
            "text/plain": [
              "torch.Size([32, 1, 28, 28])"
            ]
          },
          "metadata": {},
          "execution_count": 52
        }
      ]
    },
    {
      "cell_type": "code",
      "source": [
        "def accuracy_fn(y_true, y_preds):\n",
        "  return (y_true == y_preds).sum().item() / len(y_preds)"
      ],
      "metadata": {
        "id": "Kz97OfOt1cF3"
      },
      "execution_count": 53,
      "outputs": []
    },
    {
      "cell_type": "code",
      "source": [
        "loss_fn = nn.CrossEntropyLoss()\n",
        "optimizer = torch.optim.Adam(params=model.parameters(),\n",
        "                             lr=1e-3)"
      ],
      "metadata": {
        "id": "uzAdVl2b1lRE"
      },
      "execution_count": 54,
      "outputs": []
    },
    {
      "cell_type": "code",
      "source": [
        "N_EPOCHS = 3\n",
        "\n",
        "for epoch in tqdm(range(N_EPOCHS)):\n",
        "\n",
        "  train_loss = 0\n",
        "  train_acc = 0\n",
        "\n",
        "  for batch, (X, y) in enumerate(train_dataloader):\n",
        "\n",
        "    X, y = X.to(device), y.to(device)\n",
        "\n",
        "    model.train()\n",
        "\n",
        "    y_logits = model(X)\n",
        "    loss = loss_fn(y_logits, y)\n",
        "    train_loss += loss\n",
        "    train_acc += accuracy_fn(y, y_logits.argmax(dim=1))\n",
        "    optimizer.zero_grad()\n",
        "    loss.backward()\n",
        "    optimizer.step()\n",
        "\n",
        "  train_loss /= len(train_dataloader)\n",
        "  train_acc /= len(train_dataloader)\n",
        "\n",
        "  test_loss, test_acc = 0, 0\n",
        "\n",
        "  model.eval()\n",
        "  with torch.inference_mode():\n",
        "    for X, y in test_dataloader:\n",
        "\n",
        "      X, y = X.to(device), y.to(device)\n",
        "      test_logits = model(X)\n",
        "      test_loss += loss_fn(test_logits, y)\n",
        "      test_acc += accuracy_fn(y_true=y, y_preds=test_logits.argmax(dim=1))\n",
        "\n",
        "    test_loss /= len(test_dataloader)\n",
        "    test_acc /= len(test_dataloader)\n",
        "\n",
        "  print(f'Train Loss: {train_loss:.2f} | Train Accuracy: {train_acc:.2f} | Test Loss: {test_loss:.2f} | Test Accuracy: {test_acc:.2f}')"
      ],
      "metadata": {
        "colab": {
          "base_uri": "https://localhost:8080/",
          "height": 101,
          "referenced_widgets": [
            "cb962258860543bc8c45a22523b08b4e",
            "448e222d1b1f4808b7a6475119232f11",
            "67a60c53fbee4fdca3b8fd6c003b7a32",
            "5d262027ed1f4564b7f7e294227dae49",
            "73a1f6b283a74d029e8cd7baf3d4ac77",
            "0e4c23db81ee4b33b83a8d78e42b9053",
            "1d312209582a436a9703cf18bb0cd077",
            "3372ae1a0f654b13b26f4b7b9b4c393d",
            "b134877f82514afb8c3cc95582f4019c",
            "d15228c137104bd7b61708b61536bd4d",
            "b0c8db75e8344a47b03436f907424865"
          ]
        },
        "id": "9caRMG-I1zUS",
        "outputId": "6cba3c05-9481-49c1-d933-c924e9c15b36"
      },
      "execution_count": 55,
      "outputs": [
        {
          "output_type": "display_data",
          "data": {
            "text/plain": [
              "  0%|          | 0/3 [00:00<?, ?it/s]"
            ],
            "application/vnd.jupyter.widget-view+json": {
              "version_major": 2,
              "version_minor": 0,
              "model_id": "cb962258860543bc8c45a22523b08b4e"
            }
          },
          "metadata": {}
        },
        {
          "output_type": "stream",
          "name": "stdout",
          "text": [
            "Train Loss: 0.53 | Train Accuracy: 0.81 | Test Loss: 0.41 | Test Accuracy: 0.85\n",
            "Train Loss: 0.36 | Train Accuracy: 0.87 | Test Loss: 0.36 | Test Accuracy: 0.87\n",
            "Train Loss: 0.33 | Train Accuracy: 0.88 | Test Loss: 0.34 | Test Accuracy: 0.88\n"
          ]
        }
      ]
    },
    {
      "cell_type": "code",
      "source": [
        "# image_batch, image_labels = next(iter(train_dataloader))"
      ],
      "metadata": {
        "id": "YlnzQGGm204_"
      },
      "execution_count": 56,
      "outputs": []
    },
    {
      "cell_type": "code",
      "source": [
        "def eval_model(model: torch.nn.Module,\n",
        "               data_loader: torch.utils.data.DataLoader,\n",
        "               loss_fn: torch.nn.Module,\n",
        "               device: torch.device,\n",
        "               accuracy_fn):\n",
        "  loss, acc = 0, 0\n",
        "  model.eval()\n",
        "  with torch.inference_mode():\n",
        "    for X, y in data_loader:\n",
        "      X, y = X.to(device), y.to(device)\n",
        "      y_logits = model(X)\n",
        "      loss += loss_fn(y_logits, y)\n",
        "      acc += accuracy_fn(y_true=y, y_preds=y_logits.argmax(dim=1))\n",
        "\n",
        "    loss /= len(data_loader)\n",
        "    acc /= len(data_loader)\n",
        "\n",
        "  return {'model_name': model.__class__.__name__,\n",
        "          'model_loss': loss.item(),\n",
        "          'model_acc': acc}"
      ],
      "metadata": {
        "id": "kiYih3fB3Ioj"
      },
      "execution_count": 57,
      "outputs": []
    },
    {
      "cell_type": "code",
      "source": [
        "eval_model(model=model,\n",
        "           data_loader=test_dataloader,\n",
        "           loss_fn=nn.CrossEntropyLoss(),\n",
        "           device=device,\n",
        "           accuracy_fn=accuracy_fn)"
      ],
      "metadata": {
        "colab": {
          "base_uri": "https://localhost:8080/"
        },
        "id": "Rtmofeen530H",
        "outputId": "721b69f0-21c2-4da0-91cc-1b52aee29203"
      },
      "execution_count": 58,
      "outputs": [
        {
          "output_type": "execute_result",
          "data": {
            "text/plain": [
              "{'model_name': 'FashionMNISTModel',\n",
              " 'model_loss': 0.3414200246334076,\n",
              " 'model_acc': 0.876797124600639}"
            ]
          },
          "metadata": {},
          "execution_count": 58
        }
      ]
    },
    {
      "cell_type": "code",
      "source": [],
      "metadata": {
        "id": "JtuOSBLa7MK6"
      },
      "execution_count": null,
      "outputs": []
    }
  ]
}