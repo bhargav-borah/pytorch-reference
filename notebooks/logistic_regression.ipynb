{
  "nbformat": 4,
  "nbformat_minor": 0,
  "metadata": {
    "colab": {
      "provenance": []
    },
    "kernelspec": {
      "name": "python3",
      "display_name": "Python 3"
    },
    "language_info": {
      "name": "python"
    }
  },
  "cells": [
    {
      "cell_type": "code",
      "execution_count": 46,
      "metadata": {
        "id": "otOxB6lkwEfk"
      },
      "outputs": [],
      "source": [
        "import torch\n",
        "import torch.nn as nn\n",
        "\n",
        "import pandas as pd\n",
        "import numpy as np\n",
        "import matplotlib.pyplot as plt\n",
        "import seaborn as sns\n",
        "\n",
        "from sklearn.model_selection import train_test_split\n",
        "from sklearn.datasets import make_classification"
      ]
    },
    {
      "cell_type": "code",
      "source": [
        "features, targets = make_classification(\n",
        "    n_samples=10000,\n",
        "    n_features=7,\n",
        "    n_informative=4,\n",
        "    n_redundant=0,\n",
        "    n_clusters_per_class=1,\n",
        "    random_state=42\n",
        ")"
      ],
      "metadata": {
        "id": "I77dVU7nwk-d"
      },
      "execution_count": 47,
      "outputs": []
    },
    {
      "cell_type": "code",
      "source": [
        "features.shape"
      ],
      "metadata": {
        "colab": {
          "base_uri": "https://localhost:8080/"
        },
        "id": "qKnn9YVhxAbZ",
        "outputId": "e15f2c71-2de8-4fa2-ca4f-9cb26ee5db4c"
      },
      "execution_count": 48,
      "outputs": [
        {
          "output_type": "execute_result",
          "data": {
            "text/plain": [
              "(10000, 7)"
            ]
          },
          "metadata": {},
          "execution_count": 48
        }
      ]
    },
    {
      "cell_type": "code",
      "source": [
        "(targets == 0).sum()"
      ],
      "metadata": {
        "colab": {
          "base_uri": "https://localhost:8080/"
        },
        "id": "v7srFRIaxBre",
        "outputId": "cb8a7b4f-cb63-4833-d028-678b60e58fe3"
      },
      "execution_count": 49,
      "outputs": [
        {
          "output_type": "execute_result",
          "data": {
            "text/plain": [
              "5012"
            ]
          },
          "metadata": {},
          "execution_count": 49
        }
      ]
    },
    {
      "cell_type": "code",
      "source": [
        "X = torch.from_numpy(features).float()\n",
        "y = torch.from_numpy(targets).float().unsqueeze(dim=1)"
      ],
      "metadata": {
        "id": "lZJSKpgNxEM7"
      },
      "execution_count": 50,
      "outputs": []
    },
    {
      "cell_type": "code",
      "source": [
        "X_train, X_test, y_train, y_test = train_test_split(X, y, stratify=y, test_size=0.2, random_state=42)"
      ],
      "metadata": {
        "id": "tFdOXf0ix-kp"
      },
      "execution_count": 51,
      "outputs": []
    },
    {
      "cell_type": "code",
      "source": [
        "y_train[:5], y_test[:5]"
      ],
      "metadata": {
        "colab": {
          "base_uri": "https://localhost:8080/"
        },
        "id": "KV9coJq2zsdU",
        "outputId": "f438cdd2-7fa6-499e-f2e7-dd7b7b1a0463"
      },
      "execution_count": 52,
      "outputs": [
        {
          "output_type": "execute_result",
          "data": {
            "text/plain": [
              "(tensor([[1.],\n",
              "         [1.],\n",
              "         [0.],\n",
              "         [0.],\n",
              "         [1.]]),\n",
              " tensor([[0.],\n",
              "         [1.],\n",
              "         [0.],\n",
              "         [1.],\n",
              "         [0.]]))"
            ]
          },
          "metadata": {},
          "execution_count": 52
        }
      ]
    },
    {
      "cell_type": "code",
      "source": [
        "class LogisticRegressionModel(nn.Module):\n",
        "\n",
        "  def __init__(self, input_size):\n",
        "    super(LogisticRegressionModel, self).__init__()\n",
        "\n",
        "    self.linear = nn.Linear(in_features=input_size,\n",
        "                            out_features=1)\n",
        "    self.sigmoid = nn.Sigmoid()\n",
        "\n",
        "  def forward(self, x):\n",
        "    return self.sigmoid(self.linear(x))"
      ],
      "metadata": {
        "id": "TUPDDxLwyPsj"
      },
      "execution_count": 53,
      "outputs": []
    },
    {
      "cell_type": "code",
      "source": [
        "X_train.shape"
      ],
      "metadata": {
        "colab": {
          "base_uri": "https://localhost:8080/"
        },
        "id": "L7HzD1pPzENj",
        "outputId": "994c518d-beaa-4398-8121-ffce390b00f4"
      },
      "execution_count": 54,
      "outputs": [
        {
          "output_type": "execute_result",
          "data": {
            "text/plain": [
              "torch.Size([8000, 7])"
            ]
          },
          "metadata": {},
          "execution_count": 54
        }
      ]
    },
    {
      "cell_type": "code",
      "source": [
        "input_dim = X_train.shape[1]\n",
        "model = LogisticRegressionModel(input_size=input_dim)"
      ],
      "metadata": {
        "id": "anVCAYFsyv2z"
      },
      "execution_count": 55,
      "outputs": []
    },
    {
      "cell_type": "code",
      "source": [
        "loss_fn = nn.BCEWithLogitsLoss()\n",
        "optimizer = torch.optim.Adam(params=model.parameters(),\n",
        "                             lr=0.1)"
      ],
      "metadata": {
        "id": "TDdhJXaIy--l"
      },
      "execution_count": 56,
      "outputs": []
    },
    {
      "cell_type": "code",
      "source": [
        "n_epochs = 10000\n",
        "\n",
        "for epoch in range(n_epochs):\n",
        "  preds = model(X_train)\n",
        "  loss = loss_fn(preds, y_train)\n",
        "  optimizer.zero_grad()\n",
        "  loss.backward()\n",
        "  optimizer.step()\n",
        "\n",
        "  if (epoch + 1) % 100 == 0:\n",
        "    print(f'Epoch: {epoch + 1} | Loss: {loss.item():.4f}')"
      ],
      "metadata": {
        "colab": {
          "base_uri": "https://localhost:8080/"
        },
        "id": "jU6qGXvZzTxY",
        "outputId": "dc4c5d47-ceb5-40fd-bce5-53220eeea5ce"
      },
      "execution_count": 57,
      "outputs": [
        {
          "output_type": "stream",
          "name": "stdout",
          "text": [
            "Epoch: 100 | Loss: 0.5641\n",
            "Epoch: 200 | Loss: 0.5604\n",
            "Epoch: 300 | Loss: 0.5590\n",
            "Epoch: 400 | Loss: 0.5583\n",
            "Epoch: 500 | Loss: 0.5578\n",
            "Epoch: 600 | Loss: 0.5575\n",
            "Epoch: 700 | Loss: 0.5573\n",
            "Epoch: 800 | Loss: 0.5571\n",
            "Epoch: 900 | Loss: 0.5570\n",
            "Epoch: 1000 | Loss: 0.5569\n",
            "Epoch: 1100 | Loss: 0.5568\n",
            "Epoch: 1200 | Loss: 0.5567\n",
            "Epoch: 1300 | Loss: 0.5567\n",
            "Epoch: 1400 | Loss: 0.5566\n",
            "Epoch: 1500 | Loss: 0.5566\n",
            "Epoch: 1600 | Loss: 0.5565\n",
            "Epoch: 1700 | Loss: 0.5565\n",
            "Epoch: 1800 | Loss: 0.5565\n",
            "Epoch: 1900 | Loss: 0.5564\n",
            "Epoch: 2000 | Loss: 0.5564\n",
            "Epoch: 2100 | Loss: 0.5564\n",
            "Epoch: 2200 | Loss: 0.5564\n",
            "Epoch: 2300 | Loss: 0.5564\n",
            "Epoch: 2400 | Loss: 0.5563\n",
            "Epoch: 2500 | Loss: 0.5563\n",
            "Epoch: 2600 | Loss: 0.5563\n",
            "Epoch: 2700 | Loss: 0.5563\n",
            "Epoch: 2800 | Loss: 0.5563\n",
            "Epoch: 2900 | Loss: 0.5563\n",
            "Epoch: 3000 | Loss: 0.5563\n",
            "Epoch: 3100 | Loss: 0.5563\n",
            "Epoch: 3200 | Loss: 0.5563\n",
            "Epoch: 3300 | Loss: 0.5562\n",
            "Epoch: 3400 | Loss: 0.5562\n",
            "Epoch: 3500 | Loss: 0.5562\n",
            "Epoch: 3600 | Loss: 0.5562\n",
            "Epoch: 3700 | Loss: 0.5562\n",
            "Epoch: 3800 | Loss: 0.5562\n",
            "Epoch: 3900 | Loss: 0.5562\n",
            "Epoch: 4000 | Loss: 0.5562\n",
            "Epoch: 4100 | Loss: 0.5562\n",
            "Epoch: 4200 | Loss: 0.5562\n",
            "Epoch: 4300 | Loss: 0.5562\n",
            "Epoch: 4400 | Loss: 0.5562\n",
            "Epoch: 4500 | Loss: 0.5562\n",
            "Epoch: 4600 | Loss: 0.5562\n",
            "Epoch: 4700 | Loss: 0.5562\n",
            "Epoch: 4800 | Loss: 0.5562\n",
            "Epoch: 4900 | Loss: 0.5562\n",
            "Epoch: 5000 | Loss: 0.5562\n",
            "Epoch: 5100 | Loss: 0.5562\n",
            "Epoch: 5200 | Loss: 0.5562\n",
            "Epoch: 5300 | Loss: 0.5562\n",
            "Epoch: 5400 | Loss: 0.5562\n",
            "Epoch: 5500 | Loss: 0.5562\n",
            "Epoch: 5600 | Loss: 0.5562\n",
            "Epoch: 5700 | Loss: 0.5562\n",
            "Epoch: 5800 | Loss: 0.5562\n",
            "Epoch: 5900 | Loss: 0.5562\n",
            "Epoch: 6000 | Loss: 0.5562\n",
            "Epoch: 6100 | Loss: 0.5562\n",
            "Epoch: 6200 | Loss: 0.5562\n",
            "Epoch: 6300 | Loss: 0.5562\n",
            "Epoch: 6400 | Loss: 0.5562\n",
            "Epoch: 6500 | Loss: 0.5562\n",
            "Epoch: 6600 | Loss: 0.5562\n",
            "Epoch: 6700 | Loss: 0.5562\n",
            "Epoch: 6800 | Loss: 0.5562\n",
            "Epoch: 6900 | Loss: 0.5562\n",
            "Epoch: 7000 | Loss: 0.5562\n",
            "Epoch: 7100 | Loss: 0.5562\n",
            "Epoch: 7200 | Loss: 0.5561\n",
            "Epoch: 7300 | Loss: 0.5561\n",
            "Epoch: 7400 | Loss: 0.5561\n",
            "Epoch: 7500 | Loss: 0.5561\n",
            "Epoch: 7600 | Loss: 0.5561\n",
            "Epoch: 7700 | Loss: 0.5561\n",
            "Epoch: 7800 | Loss: 0.5561\n",
            "Epoch: 7900 | Loss: 0.5561\n",
            "Epoch: 8000 | Loss: 0.5561\n",
            "Epoch: 8100 | Loss: 0.5561\n",
            "Epoch: 8200 | Loss: 0.5561\n",
            "Epoch: 8300 | Loss: 0.5561\n",
            "Epoch: 8400 | Loss: 0.5561\n",
            "Epoch: 8500 | Loss: 0.5561\n",
            "Epoch: 8600 | Loss: 0.5561\n",
            "Epoch: 8700 | Loss: 0.5561\n",
            "Epoch: 8800 | Loss: 0.5561\n",
            "Epoch: 8900 | Loss: 0.5561\n",
            "Epoch: 9000 | Loss: 0.5561\n",
            "Epoch: 9100 | Loss: 0.5561\n",
            "Epoch: 9200 | Loss: 0.5561\n",
            "Epoch: 9300 | Loss: 0.5561\n",
            "Epoch: 9400 | Loss: 0.5561\n",
            "Epoch: 9500 | Loss: 0.5561\n",
            "Epoch: 9600 | Loss: 0.5561\n",
            "Epoch: 9700 | Loss: 0.5561\n",
            "Epoch: 9800 | Loss: 0.5561\n",
            "Epoch: 9900 | Loss: 0.5561\n",
            "Epoch: 10000 | Loss: 0.5561\n"
          ]
        }
      ]
    },
    {
      "cell_type": "code",
      "source": [
        "with torch.no_grad():\n",
        "    # Forward pass on the test set\n",
        "    outputs = model(X_test)\n",
        "\n",
        "    # Convert the outputs to binary predictions\n",
        "    predictions = (outputs >= 0.5).float()\n",
        "\n",
        "    # Compute the accuracy\n",
        "    accuracy = ((predictions == y_test).sum() / y_test.shape[0]).item()\n",
        "\n",
        "    # Print the accuracy\n",
        "    print('Test Accuracy: {:.4f}'.format(accuracy))"
      ],
      "metadata": {
        "colab": {
          "base_uri": "https://localhost:8080/"
        },
        "id": "Y62uT0yYz4Nb",
        "outputId": "eafdc158-968c-431e-e522-60cd28a4117e"
      },
      "execution_count": 58,
      "outputs": [
        {
          "output_type": "stream",
          "name": "stdout",
          "text": [
            "Test Accuracy: 0.8900\n"
          ]
        }
      ]
    },
    {
      "cell_type": "code",
      "source": [],
      "metadata": {
        "id": "GckB5I2x0qgs"
      },
      "execution_count": null,
      "outputs": []
    }
  ]
}