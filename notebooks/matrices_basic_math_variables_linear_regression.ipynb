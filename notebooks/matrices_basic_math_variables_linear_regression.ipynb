{
  "nbformat": 4,
  "nbformat_minor": 0,
  "metadata": {
    "colab": {
      "provenance": [],
      "toc_visible": true
    },
    "kernelspec": {
      "name": "python3",
      "display_name": "Python 3"
    },
    "language_info": {
      "name": "python"
    }
  },
  "cells": [
    {
      "cell_type": "code",
      "execution_count": 108,
      "metadata": {
        "id": "uTLyr9RDnPbe"
      },
      "outputs": [],
      "source": [
        "import torch\n",
        "import numpy as np\n",
        "import pandas as pd\n",
        "\n",
        "import matplotlib.pyplot as plt"
      ]
    },
    {
      "cell_type": "markdown",
      "source": [
        "## Basic of PyTorch"
      ],
      "metadata": {
        "id": "VzF4f_C4nUPB"
      }
    },
    {
      "cell_type": "markdown",
      "source": [
        "### Matrices"
      ],
      "metadata": {
        "id": "PcwqVIAqndnE"
      }
    },
    {
      "cell_type": "code",
      "source": [
        "array = [[1, 2, 3],\n",
        "         [4, 5, 6]]\n",
        "first_array = np.array(array)\n",
        "\n",
        "print(f'Array type: {type(first_array)}')\n",
        "print(f'Array shape: {first_array.shape}')\n",
        "print(first_array)"
      ],
      "metadata": {
        "colab": {
          "base_uri": "https://localhost:8080/"
        },
        "id": "ZyiIhWHLne2M",
        "outputId": "8f39ce3d-00bc-42e0-b5d0-b15693a34e25"
      },
      "execution_count": 109,
      "outputs": [
        {
          "output_type": "stream",
          "name": "stdout",
          "text": [
            "Array type: <class 'numpy.ndarray'>\n",
            "Array shape: (2, 3)\n",
            "[[1 2 3]\n",
            " [4 5 6]]\n"
          ]
        }
      ]
    },
    {
      "cell_type": "code",
      "source": [
        "first_tensor = torch.tensor(array)\n",
        "\n",
        "print(f'Tensor type: {type(first_tensor)}')\n",
        "print(f'Tensor shape: {first_tensor.shape}')\n",
        "print(first_tensor)"
      ],
      "metadata": {
        "colab": {
          "base_uri": "https://localhost:8080/"
        },
        "id": "jzFlDeSjnwnk",
        "outputId": "e0da54f5-f0f1-4e94-ec66-f7c0cef1bd3c"
      },
      "execution_count": 110,
      "outputs": [
        {
          "output_type": "stream",
          "name": "stdout",
          "text": [
            "Tensor type: <class 'torch.Tensor'>\n",
            "Tensor shape: torch.Size([2, 3])\n",
            "tensor([[1, 2, 3],\n",
            "        [4, 5, 6]])\n"
          ]
        }
      ]
    },
    {
      "cell_type": "code",
      "source": [
        "print(np.ones((2, 3)))\n",
        "print(torch.ones(2, 3))"
      ],
      "metadata": {
        "colab": {
          "base_uri": "https://localhost:8080/"
        },
        "id": "G2UqsuRrn7e5",
        "outputId": "27159dea-9f8c-44c5-9f0b-a8ed9f524edc"
      },
      "execution_count": 111,
      "outputs": [
        {
          "output_type": "stream",
          "name": "stdout",
          "text": [
            "[[1. 1. 1.]\n",
            " [1. 1. 1.]]\n",
            "tensor([[1., 1., 1.],\n",
            "        [1., 1., 1.]])\n"
          ]
        }
      ]
    },
    {
      "cell_type": "code",
      "source": [
        "np.ones((2, 3)).dtype"
      ],
      "metadata": {
        "colab": {
          "base_uri": "https://localhost:8080/"
        },
        "id": "JSFpoImhogav",
        "outputId": "ddbab110-d96c-4c09-d324-101bd3556cc6"
      },
      "execution_count": 112,
      "outputs": [
        {
          "output_type": "execute_result",
          "data": {
            "text/plain": [
              "dtype('float64')"
            ]
          },
          "metadata": {},
          "execution_count": 112
        }
      ]
    },
    {
      "cell_type": "code",
      "source": [
        "torch.ones(2, 3).dtype"
      ],
      "metadata": {
        "colab": {
          "base_uri": "https://localhost:8080/"
        },
        "id": "tmcRcQ7fonQJ",
        "outputId": "65948fdc-6d2e-4e25-d415-ff29a0f2eb76"
      },
      "execution_count": 113,
      "outputs": [
        {
          "output_type": "execute_result",
          "data": {
            "text/plain": [
              "torch.float32"
            ]
          },
          "metadata": {},
          "execution_count": 113
        }
      ]
    },
    {
      "cell_type": "code",
      "source": [
        "print(np.random.rand(2, 3))\n",
        "print(torch.rand(2, 3))"
      ],
      "metadata": {
        "colab": {
          "base_uri": "https://localhost:8080/"
        },
        "id": "_NRRvyg3oqZB",
        "outputId": "b3dbbc32-a6a2-46f7-9be2-c7c0b3a7d53a"
      },
      "execution_count": 114,
      "outputs": [
        {
          "output_type": "stream",
          "name": "stdout",
          "text": [
            "[[0.23107148 0.71739755 0.61780484]\n",
            " [0.04961552 0.76210247 0.93662753]]\n",
            "tensor([[0.3655, 0.4380, 0.3889],\n",
            "        [0.8129, 0.5464, 0.3771]])\n"
          ]
        }
      ]
    },
    {
      "cell_type": "code",
      "source": [
        "print(np.random.randn(2, 3))\n",
        "print(torch.randn(2, 3))"
      ],
      "metadata": {
        "colab": {
          "base_uri": "https://localhost:8080/"
        },
        "id": "NWuJ8D3Eo0rR",
        "outputId": "2ac62058-d5e5-4970-add7-6e9034395f40"
      },
      "execution_count": 115,
      "outputs": [
        {
          "output_type": "stream",
          "name": "stdout",
          "text": [
            "[[ 0.20792161  0.44711404  2.01204076]\n",
            " [-0.20855564  1.08842815 -0.0351604 ]]\n",
            "tensor([[ 0.9300, -1.4642,  1.3972],\n",
            "        [-1.2269, -0.1053,  1.9395]])\n"
          ]
        }
      ]
    },
    {
      "cell_type": "code",
      "source": [
        "array = np.random.rand(2, 2)\n",
        "print(array, type(array))\n",
        "\n",
        "from_numpy_to_tensor = torch.from_numpy(array)\n",
        "print(from_numpy_to_tensor, type(from_numpy_to_tensor))"
      ],
      "metadata": {
        "colab": {
          "base_uri": "https://localhost:8080/"
        },
        "id": "aNtvMHK7o41d",
        "outputId": "46376160-9ec9-4903-983b-1098bcecc802"
      },
      "execution_count": 116,
      "outputs": [
        {
          "output_type": "stream",
          "name": "stdout",
          "text": [
            "[[0.3765057  0.22979593]\n",
            " [0.04654948 0.80594969]] <class 'numpy.ndarray'>\n",
            "tensor([[0.3765, 0.2298],\n",
            "        [0.0465, 0.8059]], dtype=torch.float64) <class 'torch.Tensor'>\n"
          ]
        }
      ]
    },
    {
      "cell_type": "code",
      "source": [
        "tensor = from_numpy_to_tensor\n",
        "print(tensor, type(tensor))\n",
        "\n",
        "from_tensor_to_numpy = tensor.numpy()\n",
        "print(from_tensor_to_numpy, type(from_tensor_to_numpy))"
      ],
      "metadata": {
        "colab": {
          "base_uri": "https://localhost:8080/"
        },
        "id": "qfxsfXYwqtNE",
        "outputId": "db2958a8-74e5-45bf-d0b3-3e134e622ed5"
      },
      "execution_count": 117,
      "outputs": [
        {
          "output_type": "stream",
          "name": "stdout",
          "text": [
            "tensor([[0.3765, 0.2298],\n",
            "        [0.0465, 0.8059]], dtype=torch.float64) <class 'torch.Tensor'>\n",
            "[[0.3765057  0.22979593]\n",
            " [0.04654948 0.80594969]] <class 'numpy.ndarray'>\n"
          ]
        }
      ]
    },
    {
      "cell_type": "markdown",
      "source": [
        "### Basic Math with PyTorch"
      ],
      "metadata": {
        "id": "rvUi8xPzq8fV"
      }
    },
    {
      "cell_type": "code",
      "source": [
        "tensor = torch.ones(3, 3)\n",
        "\n",
        "print(tensor, tensor.shape, end='\\n')\n",
        "print(tensor.view(9), tensor.view(9).shape, end='\\n')\n",
        "print(torch.add(tensor, tensor), end='\\n')\n",
        "print(torch.sub(tensor, tensor, alpha=3), end='\\n')\n",
        "print(torch.mul(tensor, tensor)) # Element-wise multiplication\n",
        "print(torch.div(tensor, tensor)) # Element-wise substraction"
      ],
      "metadata": {
        "colab": {
          "base_uri": "https://localhost:8080/"
        },
        "id": "LStLNCqkrDut",
        "outputId": "2a1a9bab-a910-457d-a46b-114871afcf9e"
      },
      "execution_count": 118,
      "outputs": [
        {
          "output_type": "stream",
          "name": "stdout",
          "text": [
            "tensor([[1., 1., 1.],\n",
            "        [1., 1., 1.],\n",
            "        [1., 1., 1.]]) torch.Size([3, 3])\n",
            "tensor([1., 1., 1., 1., 1., 1., 1., 1., 1.]) torch.Size([9])\n",
            "tensor([[2., 2., 2.],\n",
            "        [2., 2., 2.],\n",
            "        [2., 2., 2.]])\n",
            "tensor([[-2., -2., -2.],\n",
            "        [-2., -2., -2.],\n",
            "        [-2., -2., -2.]])\n",
            "tensor([[1., 1., 1.],\n",
            "        [1., 1., 1.],\n",
            "        [1., 1., 1.]])\n",
            "tensor([[1., 1., 1.],\n",
            "        [1., 1., 1.],\n",
            "        [1., 1., 1.]])\n"
          ]
        }
      ]
    },
    {
      "cell_type": "code",
      "source": [
        "tensor = torch.tensor([1, 2, 3, 4, 5], dtype=torch.float32)\n",
        "\n",
        "print(f'Mean = {tensor.mean()}')\n",
        "print(f'Standard deviation = {tensor.std()}')"
      ],
      "metadata": {
        "colab": {
          "base_uri": "https://localhost:8080/"
        },
        "id": "vqYmfyAQsL4w",
        "outputId": "7c478198-294b-4276-a5e3-8d9a5df4680c"
      },
      "execution_count": 119,
      "outputs": [
        {
          "output_type": "stream",
          "name": "stdout",
          "text": [
            "Mean = 3.0\n",
            "Standard deviation = 1.5811388492584229\n"
          ]
        }
      ]
    },
    {
      "cell_type": "code",
      "source": [
        "tensor.requires_grad"
      ],
      "metadata": {
        "colab": {
          "base_uri": "https://localhost:8080/"
        },
        "id": "gb-qG5MRtIUm",
        "outputId": "c27c7195-3d2c-4503-cd1f-67243e2f7eeb"
      },
      "execution_count": 120,
      "outputs": [
        {
          "output_type": "execute_result",
          "data": {
            "text/plain": [
              "False"
            ]
          },
          "metadata": {},
          "execution_count": 120
        }
      ]
    },
    {
      "cell_type": "markdown",
      "source": [
        "## Variables\n",
        "* Accumulate gradients"
      ],
      "metadata": {
        "id": "IYB_lQv-rL2J"
      }
    },
    {
      "cell_type": "code",
      "source": [
        "from torch.autograd import Variable\n",
        "\n",
        "var = Variable(torch.ones(3, 3), requires_grad=True)\n",
        "var"
      ],
      "metadata": {
        "colab": {
          "base_uri": "https://localhost:8080/"
        },
        "id": "WZMGKcf7tBKZ",
        "outputId": "6298478b-313f-4e0a-bb1e-e3241812a6f8"
      },
      "execution_count": 121,
      "outputs": [
        {
          "output_type": "execute_result",
          "data": {
            "text/plain": [
              "tensor([[1., 1., 1.],\n",
              "        [1., 1., 1.],\n",
              "        [1., 1., 1.]], requires_grad=True)"
            ]
          },
          "metadata": {},
          "execution_count": 121
        }
      ]
    },
    {
      "cell_type": "code",
      "source": [
        "array = [2, 4]\n",
        "tensor = torch.tensor(array, dtype=torch.float)\n",
        "x = Variable(tensor, requires_grad=True)\n",
        "y = x ** 2\n",
        "o = 0.5 * sum(y)\n",
        "o.backward()\n",
        "print(f'y = {y}')\n",
        "print(f'o = {o}')\n",
        "print(f'x.grad = {x.grad}')"
      ],
      "metadata": {
        "id": "HfrZLFjdtXj6",
        "colab": {
          "base_uri": "https://localhost:8080/"
        },
        "outputId": "8fda9c6b-7110-4645-d769-716e539e4122"
      },
      "execution_count": 122,
      "outputs": [
        {
          "output_type": "stream",
          "name": "stdout",
          "text": [
            "y = tensor([ 4., 16.], grad_fn=<PowBackward0>)\n",
            "o = 10.0\n",
            "x.grad = tensor([2., 4.])\n"
          ]
        }
      ]
    },
    {
      "cell_type": "code",
      "source": [
        "sum(y)"
      ],
      "metadata": {
        "colab": {
          "base_uri": "https://localhost:8080/"
        },
        "id": "WtKydGeluJTC",
        "outputId": "bb9f508f-3fc7-4d84-b51d-313d0eca883d"
      },
      "execution_count": 123,
      "outputs": [
        {
          "output_type": "execute_result",
          "data": {
            "text/plain": [
              "tensor(20., grad_fn=<AddBackward0>)"
            ]
          },
          "metadata": {},
          "execution_count": 123
        }
      ]
    },
    {
      "cell_type": "code",
      "source": [
        "x"
      ],
      "metadata": {
        "colab": {
          "base_uri": "https://localhost:8080/"
        },
        "id": "nIKy_UbGuKMf",
        "outputId": "12bd4418-a05f-4b97-c309-2f7970a46638"
      },
      "execution_count": 124,
      "outputs": [
        {
          "output_type": "execute_result",
          "data": {
            "text/plain": [
              "tensor([2., 4.], requires_grad=True)"
            ]
          },
          "metadata": {},
          "execution_count": 124
        }
      ]
    },
    {
      "cell_type": "code",
      "source": [
        "y.requires_grad"
      ],
      "metadata": {
        "colab": {
          "base_uri": "https://localhost:8080/"
        },
        "id": "uQfSVh9buLG-",
        "outputId": "6c73dc99-35bc-4b1f-f428-f3ec4806fbf3"
      },
      "execution_count": 125,
      "outputs": [
        {
          "output_type": "execute_result",
          "data": {
            "text/plain": [
              "True"
            ]
          },
          "metadata": {},
          "execution_count": 125
        }
      ]
    },
    {
      "cell_type": "markdown",
      "source": [
        "## Linear Regression"
      ],
      "metadata": {
        "id": "6s5gOCu1uXsv"
      }
    },
    {
      "cell_type": "code",
      "source": [
        "car_prices_array = [3,4,5,6,7,8,9]\n",
        "car_price_np = np.array(car_prices_array,dtype=np.float32)\n",
        "car_price_np = car_price_np.reshape(-1,1)\n",
        "car_price_tensor = Variable(torch.from_numpy(car_price_np))"
      ],
      "metadata": {
        "id": "USvOuf3KvElO"
      },
      "execution_count": 126,
      "outputs": []
    },
    {
      "cell_type": "code",
      "source": [
        "number_of_car_sell_array = [ 7.5, 7, 6.5, 6.0, 5.5, 5.0, 4.5]\n",
        "number_of_car_sell_np = np.array(number_of_car_sell_array,dtype=np.float32)\n",
        "number_of_car_sell_np = number_of_car_sell_np.reshape(-1,1)\n",
        "number_of_car_sell_tensor = Variable(torch.from_numpy(number_of_car_sell_np))"
      ],
      "metadata": {
        "id": "jOSWE063vWuU"
      },
      "execution_count": 127,
      "outputs": []
    },
    {
      "cell_type": "code",
      "source": [
        "plt.scatter(car_prices_array,number_of_car_sell_array)\n",
        "plt.xlabel(\"Car Price $\")\n",
        "plt.ylabel(\"Number of Car Sell\")\n",
        "plt.title(\"Car Price$ VS Number of Car Sell\")\n",
        "plt.show()"
      ],
      "metadata": {
        "colab": {
          "base_uri": "https://localhost:8080/",
          "height": 472
        },
        "id": "_s4JcbRivwux",
        "outputId": "7bec0c14-bc5d-4d7c-fd73-d3b881acd01c"
      },
      "execution_count": 128,
      "outputs": [
        {
          "output_type": "display_data",
          "data": {
            "text/plain": [
              "<Figure size 640x480 with 1 Axes>"
            ],
            "image/png": "[encoded data removed]"
          },
          "metadata": {}
        }
      ]
    },
    {
      "cell_type": "code",
      "source": [
        "import torch\n",
        "from torch import nn\n",
        "from torch.autograd import Variable\n",
        "\n",
        "import warnings\n",
        "warnings.filterwarnings('ignore')"
      ],
      "metadata": {
        "id": "A3r-7FQAv1ZL"
      },
      "execution_count": 129,
      "outputs": []
    },
    {
      "cell_type": "code",
      "source": [
        "class LinearRegressionModel(nn.Module):\n",
        "\n",
        "  def __init__(self, input_size, output_size):\n",
        "    super(LinearRegressionModel, self).__init__()\n",
        "    self.linear = nn.Linear(in_features=input_size,\n",
        "                            out_features=output_size)\n",
        "\n",
        "  def forward(self, x):\n",
        "    return self.linear(x)"
      ],
      "metadata": {
        "id": "iwMzBOtCwH4F"
      },
      "execution_count": 130,
      "outputs": []
    },
    {
      "cell_type": "code",
      "source": [
        "input_dim = 1\n",
        "output_dim = 1\n",
        "\n",
        "model = LinearRegressionModel(input_size=input_dim,\n",
        "                              output_size=output_dim)"
      ],
      "metadata": {
        "id": "eFLxjvn7ww8r"
      },
      "execution_count": 131,
      "outputs": []
    },
    {
      "cell_type": "code",
      "source": [
        "loss_fn = nn.MSELoss()\n",
        "\n",
        "learning_rate = 0.01\n",
        "optimizer = torch.optim.SGD(model.parameters(),\n",
        "                            lr=learning_rate)"
      ],
      "metadata": {
        "id": "fO34m7TxwxXB"
      },
      "execution_count": 132,
      "outputs": []
    },
    {
      "cell_type": "code",
      "source": [
        "loss_values = []\n",
        "iterations = 2000\n",
        "\n",
        "for iteration in range(iterations):\n",
        "\n",
        "  preds = model(car_price_tensor)\n",
        "  loss = loss_fn(preds, number_of_car_sell_tensor)\n",
        "  optimizer.zero_grad()\n",
        "  loss.backward()\n",
        "  optimizer.step()\n",
        "\n",
        "  loss_values.append(loss.item())\n",
        "\n",
        "  if iteration % 50 == 0:\n",
        "    print(f'ITERATION: {iteration} | LOSS: {loss.item()}')"
      ],
      "metadata": {
        "colab": {
          "base_uri": "https://localhost:8080/"
        },
        "id": "JZyMbpBzxOQt",
        "outputId": "eb6744fa-8ccb-464f-b296-f6413a89bf13"
      },
      "execution_count": 133,
      "outputs": [
        {
          "output_type": "stream",
          "name": "stdout",
          "text": [
            "ITERATION: 0 | LOSS: 40.07944869995117\n",
            "ITERATION: 50 | LOSS: 6.8560566902160645\n",
            "ITERATION: 100 | LOSS: 5.637003421783447\n",
            "ITERATION: 150 | LOSS: 4.63470458984375\n",
            "ITERATION: 200 | LOSS: 3.8106212615966797\n",
            "ITERATION: 250 | LOSS: 3.1330676078796387\n",
            "ITERATION: 300 | LOSS: 2.575986623764038\n",
            "ITERATION: 350 | LOSS: 2.1179592609405518\n",
            "ITERATION: 400 | LOSS: 1.7413712739944458\n",
            "ITERATION: 450 | LOSS: 1.4317432641983032\n",
            "ITERATION: 500 | LOSS: 1.177169919013977\n",
            "ITERATION: 550 | LOSS: 0.9678611159324646\n",
            "ITERATION: 600 | LOSS: 0.7957682609558105\n",
            "ITERATION: 650 | LOSS: 0.6542754769325256\n",
            "ITERATION: 700 | LOSS: 0.5379409193992615\n",
            "ITERATION: 750 | LOSS: 0.4422910809516907\n",
            "ITERATION: 800 | LOSS: 0.3636493384838104\n",
            "ITERATION: 850 | LOSS: 0.29899024963378906\n",
            "ITERATION: 900 | LOSS: 0.24582742154598236\n",
            "ITERATION: 950 | LOSS: 0.20211736857891083\n",
            "ITERATION: 1000 | LOSS: 0.166179820895195\n",
            "ITERATION: 1050 | LOSS: 0.13663198053836823\n",
            "ITERATION: 1100 | LOSS: 0.11233814805746078\n",
            "ITERATION: 1150 | LOSS: 0.09236325323581696\n",
            "ITERATION: 1200 | LOSS: 0.07594034820795059\n",
            "ITERATION: 1250 | LOSS: 0.06243763118982315\n",
            "ITERATION: 1300 | LOSS: 0.05133619159460068\n",
            "ITERATION: 1350 | LOSS: 0.042208436876535416\n",
            "ITERATION: 1400 | LOSS: 0.034703630954027176\n",
            "ITERATION: 1450 | LOSS: 0.028533179312944412\n",
            "ITERATION: 1500 | LOSS: 0.023460032418370247\n",
            "ITERATION: 1550 | LOSS: 0.019288664683699608\n",
            "ITERATION: 1600 | LOSS: 0.01585901528596878\n",
            "ITERATION: 1650 | LOSS: 0.013039089739322662\n",
            "ITERATION: 1700 | LOSS: 0.010720654390752316\n",
            "ITERATION: 1750 | LOSS: 0.008814576081931591\n",
            "ITERATION: 1800 | LOSS: 0.007247335743159056\n",
            "ITERATION: 1850 | LOSS: 0.005958289373666048\n",
            "ITERATION: 1900 | LOSS: 0.004898728337138891\n",
            "ITERATION: 1950 | LOSS: 0.004027688410133123\n"
          ]
        }
      ]
    },
    {
      "cell_type": "code",
      "source": [
        "plt.plot(range(iterations), loss_values)\n",
        "plt.xlabel('Number of Iterations')\n",
        "plt.ylabel('Loss')\n",
        "plt.show()"
      ],
      "metadata": {
        "colab": {
          "base_uri": "https://localhost:8080/",
          "height": 449
        },
        "id": "xPBT5wJwx2ZL",
        "outputId": "647411ab-719b-4e9a-f4e0-73f1b2fbf4e5"
      },
      "execution_count": 134,
      "outputs": [
        {
          "output_type": "display_data",
          "data": {
            "text/plain": [
              "<Figure size 640x480 with 1 Axes>"
            ],
            "image/png": "[encoded data removed]"
          },
          "metadata": {}
        }
      ]
    },
    {
      "cell_type": "code",
      "source": [
        "preds = model(car_price_tensor).detach().numpy()"
      ],
      "metadata": {
        "id": "mH53mAKwyAfR"
      },
      "execution_count": 135,
      "outputs": []
    },
    {
      "cell_type": "code",
      "source": [
        "plt.scatter(car_prices_array, number_of_car_sell_array, label = \"original data\", color =\"red\")\n",
        "plt.scatter(car_prices_array, preds, label = \"predicted data\", color =\"blue\")\n",
        "plt.legend()\n",
        "plt.xlabel(\"Car Price $\")\n",
        "plt.ylabel(\"Number of Car Sell\")\n",
        "plt.title(\"Original vs Predicted values\")\n",
        "plt.show()"
      ],
      "metadata": {
        "colab": {
          "base_uri": "https://localhost:8080/",
          "height": 472
        },
        "id": "r7WT172uyJFM",
        "outputId": "adc5a8b6-60c7-458c-b5f8-e8e688cf2d52"
      },
      "execution_count": 136,
      "outputs": [
        {
          "output_type": "display_data",
          "data": {
            "text/plain": [
              "<Figure size 640x480 with 1 Axes>"
            ],
            "image/png": "[encoded data removed]"
          },
          "metadata": {}
        }
      ]
    },
    {
      "cell_type": "code",
      "source": [],
      "metadata": {
        "id": "dqA0ZHEeyZyU"
      },
      "execution_count": 136,
      "outputs": []
    }
  ]
}